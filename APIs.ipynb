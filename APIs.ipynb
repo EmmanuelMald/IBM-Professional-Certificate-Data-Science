{
 "cells": [
  {
   "attachments": {},
   "cell_type": "markdown",
   "metadata": {},
   "source": [
    "## **Cálculo de las emisiones de CO2 emitidas por diferentes actividades**\n",
    "\n",
    "### Esta API calcula la emisión de CO2 para algunas actividades comunes. Es de libre acceso"
   ]
  },
  {
   "attachments": {},
   "cell_type": "markdown",
   "metadata": {},
   "source": [
    "### Para este propósito se utilizará la REST-API que puede ser consulada en: \n",
    "#### [Carbon interface](https://docs.carboninterface.com/#/)\n"
   ]
  },
  {
   "cell_type": "code",
   "execution_count": 10,
   "metadata": {},
   "outputs": [],
   "source": [
    "import requests\n",
    "import pandas as pd\n",
    "import json"
   ]
  },
  {
   "cell_type": "code",
   "execution_count": 95,
   "metadata": {},
   "outputs": [],
   "source": [
    "key = \"KDPebxwd6cjRYVYycS6vA\"\n",
    "status_codes={\n",
    "    200:\"OK\",\n",
    "    201:\"Object created\",\n",
    "    400:\"Bad request\",\n",
    "    401:\"Unauthorized\",\n",
    "    403:\"Forbidden\",\n",
    "    404:\"Not found\",\n",
    "    422:\"Unprocessable entity\",\n",
    "    429:\"Too many request\",\n",
    "    500:\"Internal Server Error\",\n",
    "    503:\"Service Unavailable\"\n",
    "        }\n"
   ]
  },
  {
   "cell_type": "code",
   "execution_count": 91,
   "metadata": {},
   "outputs": [],
   "source": [
    "def acceso(key):\n",
    "    url=\"https://www.carboninterface.com/api/v1/auth\"\n",
    "    authorization=requests.get(url,headers={\"Authorization\": \"Bearer \" + key})\n",
    "    if authorization.status_code == 200:\n",
    "        return print(\"Connection authorized\")     \n",
    "    else:\n",
    "        return print(f\"Connection failed, status code: {authorization.status_code} \\nMeaning: {status_codes[authorization.status_code]}\")"
   ]
  },
  {
   "cell_type": "code",
   "execution_count": 96,
   "metadata": {},
   "outputs": [
    {
     "name": "stdout",
     "output_type": "stream",
     "text": [
      "Connection authorized\n"
     ]
    }
   ],
   "source": [
    "acceso(key)"
   ]
  },
  {
   "cell_type": "code",
   "execution_count": 85,
   "metadata": {},
   "outputs": [],
   "source": [
    "def unidad_electricidad():\n",
    "\n",
    "    unidad=input(\"Introduce las unidades en las que la energía será medida. Las opciones\" +\n",
    "                    \" válidas son: \\n- mwh \\n-kwh\\n\\n\"+\n",
    "                    \"Para salir, presione s\")\n",
    "    unidad=unidad.lower()\n",
    "    \n",
    "    if unidad == \"s\":\n",
    "        print(\"Hasta luego\")\n",
    "        return \n",
    "        \n",
    "    elif (unidad != \"kwh\" and unidad != 'mwh'): \n",
    "        print(\"El valor introducido no coincide con ninguna opción válida, intente de nuevo.\")\n",
    "        return unidad_electricidad()\n",
    "    "
   ]
  },
  {
   "cell_type": "code",
   "execution_count": 81,
   "metadata": {},
   "outputs": [],
   "source": [
    "def valor_electricidad():\n",
    "    try:\n",
    "        valor=float(input(\"Introduce la cantidad de energía eléctrica utilizada:\"))\n",
    "        return valor\n",
    "    except:\n",
    "        print(\"El valor introducido no es válido, intente de nuevo\")\n",
    "        return valor_electricidad()"
   ]
  },
  {
   "cell_type": "code",
   "execution_count": null,
   "metadata": {},
   "outputs": [],
   "source": [
    "def electricidad():\n",
    "    type=\"electricity\"\n",
    "    unidad=unidad_electricidad()\n",
    "    valor=valor_electricidad()\n",
    "    print()\n",
    "    \n",
    "    \n"
   ]
  }
 ],
 "metadata": {
  "kernelspec": {
   "display_name": "Python 3",
   "language": "python",
   "name": "python3"
  },
  "language_info": {
   "codemirror_mode": {
    "name": "ipython",
    "version": 3
   },
   "file_extension": ".py",
   "mimetype": "text/x-python",
   "name": "python",
   "nbconvert_exporter": "python",
   "pygments_lexer": "ipython3",
   "version": "3.11.2"
  },
  "orig_nbformat": 4
 },
 "nbformat": 4,
 "nbformat_minor": 2
}
