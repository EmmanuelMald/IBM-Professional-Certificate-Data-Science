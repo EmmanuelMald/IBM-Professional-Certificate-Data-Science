{
 "cells": [
  {
   "attachments": {},
   "cell_type": "markdown",
   "metadata": {},
   "source": [
    "## **Cálculo de las emisiones de CO2 emitidas por la generación de electricidad en Florida**\n",
    "\n",
    "### Esta API calcula la emisión de CO2 para algunas actividades comunes. Es de libre acceso"
   ]
  },
  {
   "attachments": {},
   "cell_type": "markdown",
   "metadata": {},
   "source": [
    "### Para este propósito se utilizará la REST-API que puede ser consulada en: \n",
    "#### [Carbon interface](https://docs.carboninterface.com/#/)\n"
   ]
  },
  {
   "cell_type": "code",
   "execution_count": 10,
   "metadata": {},
   "outputs": [],
   "source": [
    "import requests\n",
    "import pandas as pd\n",
    "import json"
   ]
  },
  {
   "cell_type": "code",
   "execution_count": 95,
   "metadata": {},
   "outputs": [],
   "source": [
    "key = \"KDPebxwd6cjRYVYycS6vA\"\n",
    "status_codes={\n",
    "    200:\"OK\",\n",
    "    201:\"Object created\",\n",
    "    400:\"Bad request\",\n",
    "    401:\"Unauthorized\",\n",
    "    403:\"Forbidden\",\n",
    "    404:\"Not found\",\n",
    "    422:\"Unprocessable entity\",\n",
    "    429:\"Too many request\",\n",
    "    500:\"Internal Server Error\",\n",
    "    503:\"Service Unavailable\"\n",
    "        }\n"
   ]
  },
  {
   "cell_type": "code",
   "execution_count": 91,
   "metadata": {},
   "outputs": [],
   "source": [
    "def acceso(key):\n",
    "    url=\"https://www.carboninterface.com/api/v1/auth\"\n",
    "    authorization=requests.get(url,headers={\"Authorization\": \"Bearer \" + key})\n",
    "    if authorization.status_code == 200:\n",
    "        return print(\"Connection authorized\")     \n",
    "    else:\n",
    "        return print(f\"Connection failed, status code: {authorization.status_code} \\nMeaning: {status_codes[authorization.status_code]}\")"
   ]
  },
  {
   "cell_type": "code",
   "execution_count": 117,
   "metadata": {},
   "outputs": [
    {
     "name": "stdout",
     "output_type": "stream",
     "text": [
      "Connection authorized\n"
     ]
    }
   ],
   "source": [
    "acceso(key)"
   ]
  },
  {
   "cell_type": "code",
   "execution_count": 141,
   "metadata": {},
   "outputs": [],
   "source": [
    "def unidad_electricidad():\n",
    "\n",
    "    unidad=input(\"Introduce las unidades en las que la energía será medida. Las opciones\" +\n",
    "                    \" válidas son: \\n- mwh \\n-kwh\\n\\n\"+\n",
    "                    \"Para salir, presione s\")\n",
    "    unidad=unidad.lower()\n",
    "    \n",
    "    if unidad == \"s\":\n",
    "        print(\"Hasta luego\")\n",
    "        return \n",
    "        \n",
    "    elif (unidad != \"kwh\" and unidad != \"mwh\"): \n",
    "        print(\"El valor introducido no coincide con ninguna opción válida, intente de nuevo.\")\n",
    "        return unidad_electricidad()\n",
    "    "
   ]
  },
  {
   "cell_type": "code",
   "execution_count": 81,
   "metadata": {},
   "outputs": [],
   "source": [
    "def valor_electricidad():\n",
    "    try:\n",
    "        valor=float(input(\"Introduce la cantidad de energía eléctrica utilizada:\"))\n",
    "        return valor\n",
    "    except:\n",
    "        print(\"El valor introducido no es válido, intente de nuevo\")\n",
    "        return valor_electricidad()"
   ]
  },
  {
   "cell_type": "code",
   "execution_count": 157,
   "metadata": {},
   "outputs": [],
   "source": [
    "def electricidad():\n",
    "    \n",
    "    type=\"electricity\"\n",
    "    unidad=unidad_electricidad()\n",
    "    valor=valor_electricidad()\n",
    "    country=\"us\"\n",
    "    \n",
    "    header={\n",
    "        \"Content-Type\":\"application/json\",\n",
    "        \"Authorization\": \"Bearer \" + key,\n",
    "    }\n",
    "    \n",
    "    data={\n",
    "        \"type\":type,\n",
    "        \"electricity_unit\":str(unidad),\n",
    "        \"electricity_value\":valor,\n",
    "        \"country\":country,\n",
    "        \"state\":\"fl\"\n",
    "    }\n",
    "    \n",
    "    url=\"https://www.carboninterface.com/api/v1/estimates\"\n",
    "    r=requests.post(url,headers=header,data=json.dumps(data))\n",
    "    d=pd.DataFrame(json.loads(r.text)) #return a DataFrame, but the first row we have \n",
    "    # the information we need\n",
    "    return pd.json_normalize(d.loc[d.index[0]].data)\n",
    "    \n"
   ]
  },
  {
   "cell_type": "code",
   "execution_count": 158,
   "metadata": {},
   "outputs": [
    {
     "data": {
      "text/html": [
       "<div>\n",
       "<style scoped>\n",
       "    .dataframe tbody tr th:only-of-type {\n",
       "        vertical-align: middle;\n",
       "    }\n",
       "\n",
       "    .dataframe tbody tr th {\n",
       "        vertical-align: top;\n",
       "    }\n",
       "\n",
       "    .dataframe thead th {\n",
       "        text-align: right;\n",
       "    }\n",
       "</style>\n",
       "<table border=\"1\" class=\"dataframe\">\n",
       "  <thead>\n",
       "    <tr style=\"text-align: right;\">\n",
       "      <th></th>\n",
       "      <th>country</th>\n",
       "      <th>state</th>\n",
       "      <th>electricity_unit</th>\n",
       "      <th>electricity_value</th>\n",
       "      <th>estimated_at</th>\n",
       "      <th>carbon_g</th>\n",
       "      <th>carbon_lb</th>\n",
       "      <th>carbon_kg</th>\n",
       "      <th>carbon_mt</th>\n",
       "    </tr>\n",
       "  </thead>\n",
       "  <tbody>\n",
       "    <tr>\n",
       "      <th>0</th>\n",
       "      <td>us</td>\n",
       "      <td>fl</td>\n",
       "      <td>None</td>\n",
       "      <td>42.0</td>\n",
       "      <td>2023-05-11T00:07:48.896Z</td>\n",
       "      <td>16710476</td>\n",
       "      <td>36840.29</td>\n",
       "      <td>16710.48</td>\n",
       "      <td>16.71</td>\n",
       "    </tr>\n",
       "  </tbody>\n",
       "</table>\n",
       "</div>"
      ],
      "text/plain": [
       "  country state electricity_unit  electricity_value              estimated_at  \\\n",
       "0      us    fl             None               42.0  2023-05-11T00:07:48.896Z   \n",
       "\n",
       "   carbon_g  carbon_lb  carbon_kg  carbon_mt  \n",
       "0  16710476   36840.29   16710.48      16.71  "
      ]
     },
     "execution_count": 158,
     "metadata": {},
     "output_type": "execute_result"
    }
   ],
   "source": [
    "data = electricidad()\n",
    "data"
   ]
  },
  {
   "cell_type": "code",
   "execution_count": 159,
   "metadata": {},
   "outputs": [
    {
     "name": "stdout",
     "output_type": "stream",
     "text": [
      "En EE.UU. en el estado de Florida, la cantidad de CO2 emitida en toneladas son:  16.71 \n",
      "la cual fue estimada en  2023-05-11T00:07:48.896Z\n"
     ]
    }
   ],
   "source": [
    "print(\"En EE.UU. en el estado de Florida, la cantidad de CO2 emitida en toneladas son: \",\n",
    "      data[\"carbon_mt\"][0], \n",
    "      \"\\nla cual fue estimada en \",\n",
    "      data[\"estimated_at\"][0])"
   ]
  }
 ],
 "metadata": {
  "kernelspec": {
   "display_name": "Python 3",
   "language": "python",
   "name": "python3"
  },
  "language_info": {
   "codemirror_mode": {
    "name": "ipython",
    "version": 3
   },
   "file_extension": ".py",
   "mimetype": "text/x-python",
   "name": "python",
   "nbconvert_exporter": "python",
   "pygments_lexer": "ipython3",
   "version": "3.11.2"
  },
  "orig_nbformat": 4
 },
 "nbformat": 4,
 "nbformat_minor": 2
}
