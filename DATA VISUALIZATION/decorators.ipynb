{
 "cells": [
  {
   "cell_type": "markdown",
   "metadata": {},
   "source": [
    "# Decorators"
   ]
  },
  {
   "cell_type": "markdown",
   "metadata": {},
   "source": [
    "To understand decorators, you must first understand that functions are objects in Python. This has important consequences"
   ]
  },
  {
   "cell_type": "code",
   "execution_count": 297,
   "metadata": {},
   "outputs": [
    {
     "name": "stdout",
     "output_type": "stream",
     "text": [
      "Yes!\n"
     ]
    }
   ],
   "source": [
    "def shout(word=\"yes\"):\n",
    "    return word.capitalize()+\"!\"\n",
    "\n",
    "print(shout())"
   ]
  },
  {
   "cell_type": "markdown",
   "metadata": {},
   "source": [
    "As an object, I can assign the function to a variable like any other object"
   ]
  },
  {
   "cell_type": "code",
   "execution_count": 298,
   "metadata": {},
   "outputs": [],
   "source": [
    "scream = shout"
   ]
  },
  {
   "cell_type": "code",
   "execution_count": 299,
   "metadata": {},
   "outputs": [
    {
     "data": {
      "text/plain": [
       "<function __main__.shout(word='yes')>"
      ]
     },
     "execution_count": 299,
     "metadata": {},
     "output_type": "execute_result"
    }
   ],
   "source": [
    "scream"
   ]
  },
  {
   "cell_type": "code",
   "execution_count": 300,
   "metadata": {},
   "outputs": [
    {
     "name": "stdout",
     "output_type": "stream",
     "text": [
      "Yes!\n"
     ]
    }
   ],
   "source": [
    "print(scream())"
   ]
  },
  {
   "cell_type": "markdown",
   "metadata": {},
   "source": [
    "Is like if we have the same function duplicated"
   ]
  },
  {
   "cell_type": "code",
   "execution_count": 301,
   "metadata": {},
   "outputs": [
    {
     "name": "stdout",
     "output_type": "stream",
     "text": [
      "Yes!\n",
      "Yes!\n"
     ]
    }
   ],
   "source": [
    "print(scream())\n",
    "print(shout())"
   ]
  },
  {
   "cell_type": "code",
   "execution_count": 302,
   "metadata": {},
   "outputs": [],
   "source": [
    "del shout"
   ]
  },
  {
   "cell_type": "code",
   "execution_count": 303,
   "metadata": {},
   "outputs": [],
   "source": [
    "#print(shout())\n",
    "#NameError: name 'shout' is not defined"
   ]
  },
  {
   "cell_type": "code",
   "execution_count": 304,
   "metadata": {},
   "outputs": [
    {
     "name": "stdout",
     "output_type": "stream",
     "text": [
      "Yes!\n"
     ]
    }
   ],
   "source": [
    "print(scream())"
   ]
  },
  {
   "cell_type": "markdown",
   "metadata": {},
   "source": [
    "**Functions can be define inside other function!!**\n",
    "Obviously, this function does not exist outside talk()"
   ]
  },
  {
   "cell_type": "code",
   "execution_count": 305,
   "metadata": {},
   "outputs": [
    {
     "name": "stdout",
     "output_type": "stream",
     "text": [
      "yes...\n"
     ]
    }
   ],
   "source": [
    "def talk():\n",
    "    \n",
    "    def whisper(word=\"yes\"):\n",
    "        return word.lower()+\"...\"\n",
    "    \n",
    "    print(whisper())\n",
    "    \n",
    "talk()"
   ]
  },
  {
   "cell_type": "markdown",
   "metadata": {},
   "source": [
    "A function can return another function\n",
    "\n",
    "If kind = \"shout\" then return  **shout function**, else **whisper function**"
   ]
  },
  {
   "cell_type": "code",
   "execution_count": 306,
   "metadata": {},
   "outputs": [],
   "source": [
    "def getTalk(kind=\"shout\"):\n",
    "    \n",
    "    def shout(word=\"yes\"):\n",
    "        return word.capitalize()+\"!\"\n",
    "    \n",
    "    def whisper(word = \"yes\"):\n",
    "        return word.lower()+\"...\"\n",
    "    \n",
    "    if kind == \"shout\":\n",
    "        return shout # return the shout function, but do not the execution, but the code\n",
    "    \n",
    "    else: \n",
    "        return whisper\n",
    "    \n",
    "talk = getTalk() # return the returned value of getTalk"
   ]
  },
  {
   "cell_type": "code",
   "execution_count": 307,
   "metadata": {},
   "outputs": [
    {
     "name": "stdout",
     "output_type": "stream",
     "text": [
      "Yes!\n"
     ]
    }
   ],
   "source": [
    "print(talk())"
   ]
  },
  {
   "cell_type": "code",
   "execution_count": 308,
   "metadata": {},
   "outputs": [
    {
     "name": "stdout",
     "output_type": "stream",
     "text": [
      "yes...\n"
     ]
    }
   ],
   "source": [
    "print(getTalk(\"whisper\")()) #this syntax works because getTalk(\"whisper\") returns the code of a function"
   ]
  },
  {
   "cell_type": "code",
   "execution_count": 309,
   "metadata": {},
   "outputs": [
    {
     "name": "stdout",
     "output_type": "stream",
     "text": [
      "<function getTalk.<locals>.shout at 0x00000208D41DDB20>\n"
     ]
    }
   ],
   "source": [
    "print(getTalk())"
   ]
  },
  {
   "cell_type": "markdown",
   "metadata": {},
   "source": [
    "You can also pass a function in another function"
   ]
  },
  {
   "cell_type": "code",
   "execution_count": 310,
   "metadata": {},
   "outputs": [
    {
     "name": "stdout",
     "output_type": "stream",
     "text": [
      "I do something before then I call the function you gave me\n",
      "Yes!\n"
     ]
    }
   ],
   "source": [
    "def doSomethingBefore(func): \n",
    "    print(\"I do something before then I call the function you gave me\")\n",
    "    print(func())\n",
    "\n",
    "doSomethingBefore(scream) # in this case, scream was an already built function"
   ]
  },
  {
   "cell_type": "markdown",
   "metadata": {},
   "source": [
    "So decorators are \"wrappers\", which mean that they let you execute code before and after the function they decorate without \n",
    "modifying the function itself\n",
    "\n",
    "**A decorator is a function that expects another function as parameter**"
   ]
  },
  {
   "cell_type": "code",
   "execution_count": 311,
   "metadata": {},
   "outputs": [
    {
     "name": "stdout",
     "output_type": "stream",
     "text": [
      "I am a stand alone function, don't you dare modify me\n"
     ]
    }
   ],
   "source": [
    "def my_shiny_new_decorator(a_function_to_decorate):\n",
    "    def the_wrapper_around_the_original_function():\n",
    "        print(\"before the function runs\")\n",
    "    \n",
    "    a_function_to_decorate()\n",
    "    \n",
    "    print(\"After the function runs\")\n",
    "    return the_wrapper_around_the_original_function\n",
    "\n",
    "def a_stand_alone_function():\n",
    "    print(\"I am a stand alone function, don't you dare modify me\")\n",
    "\n",
    "a_stand_alone_function()"
   ]
  },
  {
   "cell_type": "code",
   "execution_count": 312,
   "metadata": {},
   "outputs": [
    {
     "name": "stdout",
     "output_type": "stream",
     "text": [
      "I am a stand alone function, don't you dare modify me\n",
      "After the function runs\n",
      "before the function runs\n"
     ]
    }
   ],
   "source": [
    "a_stand_alone_function_decorated = my_shiny_new_decorator(a_stand_alone_function)\n",
    "\n",
    "a_stand_alone_function_decorated()"
   ]
  },
  {
   "cell_type": "markdown",
   "metadata": {},
   "source": [
    "Now, you probably want that every time you call a_stand_alone_function, a_stand_alone_function_decorated is called instead"
   ]
  },
  {
   "cell_type": "code",
   "execution_count": 313,
   "metadata": {},
   "outputs": [
    {
     "name": "stdout",
     "output_type": "stream",
     "text": [
      "I am a stand alone function, don't you dare modify me\n",
      "After the function runs\n",
      "before the function runs\n"
     ]
    }
   ],
   "source": [
    "a_stand_alone_function = my_shiny_new_decorator(a_stand_alone_function)\n",
    "a_stand_alone_function()"
   ]
  },
  {
   "cell_type": "code",
   "execution_count": 314,
   "metadata": {},
   "outputs": [
    {
     "name": "stdout",
     "output_type": "stream",
     "text": [
      "Leave me alone!\n",
      "After the function runs\n",
      "before the function runs\n"
     ]
    }
   ],
   "source": [
    "@my_shiny_new_decorator\n",
    "def another_stand_alone_function():\n",
    "    print(\"Leave me alone!\")\n",
    "\n",
    "another_stand_alone_function()"
   ]
  },
  {
   "cell_type": "code",
   "execution_count": 319,
   "metadata": {},
   "outputs": [],
   "source": [
    "def my_decorator(function_code):\n",
    "    def function_before():\n",
    "        print(\"This is the function that will be executed before the function to decorate!\")\n",
    "        function_code()\n",
    "        print(\"This is the function that will be executed AFTER the function to decorate!\")\n",
    "    \n",
    "    return function_before\n"
   ]
  },
  {
   "cell_type": "code",
   "execution_count": 320,
   "metadata": {},
   "outputs": [],
   "source": [
    "def function_decorate():\n",
    "    print(\"Hi, my name is Emma!\")"
   ]
  },
  {
   "cell_type": "code",
   "execution_count": 321,
   "metadata": {},
   "outputs": [
    {
     "name": "stdout",
     "output_type": "stream",
     "text": [
      "This is the function that will be executed before the function to decorate!\n",
      "Hi, my name is Emma!\n",
      "This is the function that will be executed AFTER the function to decorate!\n"
     ]
    }
   ],
   "source": [
    "function_decorate=my_decorator(function_decorate)\n",
    "function_decorate()"
   ]
  },
  {
   "cell_type": "code",
   "execution_count": 322,
   "metadata": {},
   "outputs": [
    {
     "name": "stdout",
     "output_type": "stream",
     "text": [
      "This is the function that will be executed before the function to decorate!\n",
      "Hi, my name is Emma!\n",
      "This is the function that will be executed AFTER the function to decorate!\n"
     ]
    }
   ],
   "source": [
    "function_decorate()"
   ]
  },
  {
   "cell_type": "code",
   "execution_count": 324,
   "metadata": {},
   "outputs": [
    {
     "name": "stdout",
     "output_type": "stream",
     "text": [
      "Hi, this is before the function is ran\n",
      "Hi, my name is Emma!\n",
      "Goodbye!\n"
     ]
    }
   ],
   "source": [
    "def new_decorator(function_to_decorate):\n",
    "    def new_function():\n",
    "        print (\"Hi, this is before the function is ran\")\n",
    "        function_to_decorate()\n",
    "        print(\"Goodbye!\")\n",
    "    return new_function\n",
    "\n",
    "def function_to_decorate():\n",
    "    print(\"Hi, my name is Emma!\")\n",
    "    \n",
    "function_to_decorate=new_decorator(function_to_decorate)\n",
    "function_to_decorate()"
   ]
  },
  {
   "cell_type": "markdown",
   "metadata": {},
   "source": [
    "## Using the syntaxis of decorators:"
   ]
  },
  {
   "cell_type": "code",
   "execution_count": 325,
   "metadata": {},
   "outputs": [
    {
     "name": "stdout",
     "output_type": "stream",
     "text": [
      "Hi, this is before the function is ran\n",
      "Viva México!!\n",
      "Goodbye!\n"
     ]
    }
   ],
   "source": [
    "@new_decorator\n",
    "def country():\n",
    "    print(\"Viva México!!\")\n",
    "\n",
    "country()"
   ]
  },
  {
   "cell_type": "code",
   "execution_count": null,
   "metadata": {},
   "outputs": [],
   "source": []
  }
 ],
 "metadata": {
  "kernelspec": {
   "display_name": "Python 3",
   "language": "python",
   "name": "python3"
  },
  "language_info": {
   "codemirror_mode": {
    "name": "ipython",
    "version": 3
   },
   "file_extension": ".py",
   "mimetype": "text/x-python",
   "name": "python",
   "nbconvert_exporter": "python",
   "pygments_lexer": "ipython3",
   "version": "3.11.4"
  },
  "orig_nbformat": 4
 },
 "nbformat": 4,
 "nbformat_minor": 2
}
